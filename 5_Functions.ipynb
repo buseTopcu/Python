{
 "cells": [
  {
   "cell_type": "markdown",
   "metadata": {},
   "source": [
    "## Functions"
   ]
  },
  {
   "cell_type": "code",
   "execution_count": null,
   "metadata": {},
   "outputs": [],
   "source": [
    "def powFunction(x, y):\n",
    "    return x ** y\n",
    "\n",
    "print(powFunction(2, 3))\n",
    "print(powFunction(3, 4))"
   ]
  },
  {
   "cell_type": "code",
   "execution_count": null,
   "metadata": {},
   "outputs": [],
   "source": [
    "# define an \"intersect\" function that returns the intersection list of two sequences:\n",
    "def intersect(seq1, seq2):\n",
    "    return [item for item in seq1 if item in seq2]\n",
    "\n",
    "print(intersect([1, 3, 5], (4, 6, 5, 3)))"
   ]
  },
  {
   "cell_type": "markdown",
   "metadata": {},
   "source": [
    "### Global vs Local Scope"
   ]
  },
  {
   "cell_type": "code",
   "execution_count": null,
   "metadata": {},
   "outputs": [],
   "source": [
    "# Global scope\n",
    "X = 99 # X and func assigned in module: global\n",
    "def func(Y): # Y and Z assigned in function: locals\n",
    "    Z = X + Y # X is a global\n",
    "    return Z\n",
    "\n",
    "# Global Scope Example\n",
    "func(5)"
   ]
  },
  {
   "cell_type": "code",
   "execution_count": null,
   "metadata": {},
   "outputs": [],
   "source": [
    "X = 99\n",
    "def func(Y):\n",
    "    X= 200\n",
    "    Z = X + Y  # these names don’t interfere with the enclosing module’s namespace\n",
    "    return Z\n",
    "\n",
    "# Local Scope Example\n",
    "func(5)"
   ]
  },
  {
   "cell_type": "code",
   "execution_count": null,
   "metadata": {},
   "outputs": [],
   "source": [
    "X = 99\n",
    "def f1():\n",
    "    X = 88\n",
    "    def f2(): # f1 generates a function and assigns it to the name f2, a local variable within f1 ’s local scope\n",
    "        print(X)\n",
    "    f2()\n",
    "\n",
    "f1()"
   ]
  },
  {
   "cell_type": "markdown",
   "metadata": {},
   "source": [
    "### Nested Functions"
   ]
  },
  {
   "cell_type": "code",
   "execution_count": null,
   "metadata": {},
   "outputs": [],
   "source": [
    "def superFunc(N):\n",
    "    def powFunc(X):\n",
    "        return f\"{N} to the power of {X}: {X ** N}\"\n",
    "    return powFunc\n",
    "\n",
    "result = superFunc(5)"
   ]
  },
  {
   "cell_type": "code",
   "execution_count": null,
   "metadata": {},
   "outputs": [],
   "source": [
    "print(type(result))\n",
    "print(result)\n",
    "print(result(2))"
   ]
  },
  {
   "cell_type": "code",
   "execution_count": null,
   "metadata": {},
   "outputs": [],
   "source": [
    "def sortList(x):\n",
    "    return sorted(x), sorted(x, reverse=True) # Return multiple new values in a tuple"
   ]
  },
  {
   "cell_type": "code",
   "execution_count": null,
   "metadata": {},
   "outputs": [],
   "source": [
    "ascList, descList = sortList([4, 3, 10, 9, 2, 5])\n",
    "print(ascList, descList)"
   ]
  },
  {
   "cell_type": "code",
   "execution_count": null,
   "metadata": {},
   "outputs": [],
   "source": [
    "def getMaxItem(seq):\n",
    "    itemFreqs = tuple((item, seq.count(item)) for item in seq)\n",
    "    sortedFreqs = sorted(itemFreqs, key=lambda x: x[1], reverse=True)[0]\n",
    "    return sortedFreqs[0], sortedFreqs[1]\n",
    "\n",
    "item, item_count = getMaxItem(['Apple', 'Banana', 'Orange', 'Apple', 'Strawberry', 'Apple', 'Orange'])\n",
    "print(item, item_count)"
   ]
  },
  {
   "cell_type": "markdown",
   "metadata": {},
   "source": [
    "### Function Arguments"
   ]
  },
  {
   "cell_type": "code",
   "execution_count": null,
   "metadata": {},
   "outputs": [],
   "source": [
    "def func_1(name, surname, age): \n",
    "    print(name, surname, age)\n",
    "    \n",
    "func_1(\"Uncle\", \"Sam\", \"81\")"
   ]
  },
  {
   "cell_type": "code",
   "execution_count": null,
   "metadata": {},
   "outputs": [],
   "source": [
    "func_1(age=81, surname=\"Sam\", name=\"Uncle\") # Keyword arguments allow us to match by name"
   ]
  },
  {
   "cell_type": "code",
   "execution_count": null,
   "metadata": {},
   "outputs": [],
   "source": [
    "def func_1(name, surname=\"Sam\", age=81):  # defaults\n",
    "    print(name, surname, age)\n",
    "\n",
    "func_1(\"Uncle\")"
   ]
  },
  {
   "cell_type": "code",
   "execution_count": null,
   "metadata": {},
   "outputs": [],
   "source": [
    "def func(brand, model, price=0, count=0): # First 2 required\n",
    "    print((brand, model, price, count))"
   ]
  },
  {
   "cell_type": "code",
   "execution_count": null,
   "metadata": {},
   "outputs": [],
   "source": [
    "func('ford', model=1, count=5)"
   ]
  },
  {
   "cell_type": "markdown",
   "metadata": {},
   "source": [
    "#### Arbitrary Arguments Examples"
   ]
  },
  {
   "cell_type": "code",
   "execution_count": null,
   "metadata": {},
   "outputs": [],
   "source": [
    "def f(*args): # all positional arguments collected into a new tuple\n",
    "    print(args)\n",
    "\n",
    "f(1, 2, 3, 4)\n",
    "f(*(1,2,3,4))\n",
    "f(*[1, 2, 3, 4])"
   ]
  },
  {
   "cell_type": "code",
   "execution_count": null,
   "metadata": {},
   "outputs": [],
   "source": [
    "def f(**args): # works only for keyword aguments, collects them into a new dictionary\n",
    "    print(args)\n",
    "\n",
    "f(brand=\"Ford\", model=\"Focus\", km=10)"
   ]
  },
  {
   "cell_type": "code",
   "execution_count": null,
   "metadata": {},
   "outputs": [],
   "source": [
    "def createRange(**args):\n",
    "    start = args[\"start\"]\n",
    "    end = args[\"end\"]\n",
    "    step = args[\"step\"]\n",
    "    return list(range(start, end, step))\n",
    "\n",
    "params = {\"start\": 5, \"end\": 10, \"step\": 2}\n",
    "print(createRange(end=10, step=2, start=5))\n",
    "print(createRange(**{\"start\": 5, \"end\": 10, \"step\": 2}))\n",
    "print(createRange(**params))"
   ]
  },
  {
   "cell_type": "code",
   "execution_count": null,
   "metadata": {},
   "outputs": [],
   "source": [
    "def f(a, *pargs, **kargs): # positional and keyword arguments can be combined\n",
    "    print(a, pargs, kargs)\n",
    "\n",
    "f(1, 2, 3, name=\"Zeki\", age=24)"
   ]
  },
  {
   "cell_type": "code",
   "execution_count": null,
   "metadata": {},
   "outputs": [],
   "source": [
    "def func(a, b, c, d):\n",
    "    print(f\"a:{a}, b: {b}, c:{c}, d: {d}\")"
   ]
  },
  {
   "cell_type": "code",
   "execution_count": null,
   "metadata": {},
   "outputs": [],
   "source": [
    "func(1, 2, 3, 4)"
   ]
  },
  {
   "cell_type": "code",
   "execution_count": null,
   "metadata": {},
   "outputs": [],
   "source": [
    "func(*(1, 2), **{'d': 4, 'c': 3}) # Same as func(1, 2, d=4, c=3)"
   ]
  },
  {
   "cell_type": "code",
   "execution_count": null,
   "metadata": {},
   "outputs": [],
   "source": [
    "func(1, *(2, 3), **{'d': 4}) # Same as func(1, 2, 3, d=4)"
   ]
  },
  {
   "cell_type": "code",
   "execution_count": null,
   "metadata": {},
   "outputs": [],
   "source": [
    "func(1, c=3, *(2,), **{'d': 4}) # Same as func(1, 2, c=3, d=4)"
   ]
  },
  {
   "cell_type": "code",
   "execution_count": null,
   "metadata": {},
   "outputs": [],
   "source": [
    "# * character as an argument has a specific meaning:\n",
    "def kwonly(a, *, b, c): # function does not accept a variable-length argument list \n",
    "                        # but still expects keywords\n",
    "    print(a, b, c)"
   ]
  },
  {
   "cell_type": "code",
   "execution_count": null,
   "metadata": {},
   "outputs": [],
   "source": [
    "kwonly('abc',b=11, c=12)"
   ]
  },
  {
   "cell_type": "code",
   "execution_count": null,
   "metadata": {},
   "outputs": [],
   "source": [
    "kwonly('abc',b=11)"
   ]
  },
  {
   "cell_type": "code",
   "execution_count": null,
   "metadata": {},
   "outputs": [],
   "source": [
    "kwonly('abc',234,b=11, c=12) # error: no variable to accomodate \"234\""
   ]
  },
  {
   "cell_type": "markdown",
   "metadata": {},
   "source": [
    "#### Ordering rules: in a function header, keyword-only arguments must be coded before\n",
    "the **args arbitrary keywords form and after the *args arbitrary positional form, when\n",
    "both are present"
   ]
  },
  {
   "cell_type": "code",
   "execution_count": null,
   "metadata": {},
   "outputs": [],
   "source": [
    "def f(a, *b, c=6, **d): \n",
    "    print(f\"a:{a}, b: {b}, c:{c}, d: {d}\")"
   ]
  },
  {
   "cell_type": "code",
   "execution_count": null,
   "metadata": {},
   "outputs": [],
   "source": [
    "f(1, 2, 3, x=4, y=5, c=7) # Override default c value"
   ]
  },
  {
   "cell_type": "code",
   "execution_count": null,
   "metadata": {
    "scrolled": true
   },
   "outputs": [],
   "source": [
    "f(x=4, y=5, c=7, 1, 2, 3) # Override default c value"
   ]
  },
  {
   "cell_type": "code",
   "execution_count": null,
   "metadata": {},
   "outputs": [],
   "source": [
    "def f(a, c=6, *b, **d): \n",
    "    print(a, b, c, d) # c is not keyword-only here!"
   ]
  },
  {
   "cell_type": "code",
   "execution_count": null,
   "metadata": {},
   "outputs": [],
   "source": [
    "f(1, 2, c=7, 3, x=4, y=5)"
   ]
  },
  {
   "cell_type": "code",
   "execution_count": null,
   "metadata": {},
   "outputs": [],
   "source": [
    "f(1, 2, 3, c=7, x=4, y=5) # Override default c value"
   ]
  },
  {
   "cell_type": "code",
   "execution_count": null,
   "metadata": {},
   "outputs": [],
   "source": []
  }
 ],
 "metadata": {
  "kernelspec": {
   "display_name": "Python 3",
   "language": "python",
   "name": "python3"
  },
  "language_info": {
   "codemirror_mode": {
    "name": "ipython",
    "version": 3
   },
   "file_extension": ".py",
   "mimetype": "text/x-python",
   "name": "python",
   "nbconvert_exporter": "python",
   "pygments_lexer": "ipython3",
   "version": "3.7.4"
  }
 },
 "nbformat": 4,
 "nbformat_minor": 2
}
